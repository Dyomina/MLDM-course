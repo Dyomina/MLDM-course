{
 "cells": [
  {
   "cell_type": "code",
   "execution_count": 90,
   "metadata": {
    "collapsed": false
   },
   "outputs": [],
   "source": [
    "import numpy as np"
   ]
  },
  {
   "cell_type": "code",
   "execution_count": 115,
   "metadata": {
    "collapsed": false
   },
   "outputs": [],
   "source": [
    "#создаем матрицу оценок фильмов\n",
    "X=np.zeros((6, 7))\n",
    "X = np.array([[4,4,5,0,0,0,0], [5,5,3,4,3,0,0], [0,0,0,4,4,0,0], [0,0,0,5,4,5,3], [0,0,0,0,0,5,5], [0,0,0,0,0,4,4]])"
   ]
  },
  {
   "cell_type": "code",
   "execution_count": 92,
   "metadata": {
    "collapsed": false
   },
   "outputs": [],
   "source": [
    "#находим сингулярное разложение\n",
    "U, s, V = numpy.linalg.svd(X, full_matrices=True)"
   ]
  },
  {
   "cell_type": "code",
   "execution_count": 93,
   "metadata": {
    "collapsed": false
   },
   "outputs": [
    {
     "data": {
      "text/plain": [
       "array([[  3.12588157e-01,   4.88299765e-01,  -4.97486928e-01,\n",
       "         -6.42399264e-01,  -6.06788790e-02,  -8.21965453e-17],\n",
       "       [  5.81592898e-01,   5.04410043e-01,   3.39133215e-02,\n",
       "          6.34303396e-01,   6.18813194e-02,   8.51855106e-17],\n",
       "       [  2.91075769e-01,   7.31204099e-03,   5.79298849e-01,\n",
       "         -2.32962739e-01,  -7.24819038e-01,  -5.55172221e-17],\n",
       "       [  5.77180773e-01,  -3.75701377e-01,   3.15581314e-01,\n",
       "         -3.03696910e-01,   5.77829951e-01,  -3.37590837e-17],\n",
       "       [  2.98548926e-01,  -4.72363581e-01,  -4.39080193e-01,\n",
       "          1.53175607e-01,  -2.85031755e-01,  -6.24695048e-01],\n",
       "       [  2.38839141e-01,  -3.77890864e-01,  -3.51264154e-01,\n",
       "          1.22540486e-01,  -2.28025404e-01,   7.80868809e-01]])"
      ]
     },
     "execution_count": 93,
     "metadata": {},
     "output_type": "execute_result"
    }
   ],
   "source": [
    "U\n"
   ]
  },
  {
   "cell_type": "code",
   "execution_count": 94,
   "metadata": {
    "collapsed": false
   },
   "outputs": [
    {
     "data": {
      "text/plain": [
       "array([  1.26226575e+01,   1.06683922e+01,   7.29730704e+00,\n",
       "         1.64107896e+00,   9.53988881e-01,   3.30004874e-17])"
      ]
     },
     "execution_count": 94,
     "metadata": {},
     "output_type": "execute_result"
    }
   ],
   "source": [
    "#вектор весов факторов\n",
    "s"
   ]
  },
  {
   "cell_type": "code",
   "execution_count": 95,
   "metadata": {
    "collapsed": false
   },
   "outputs": [
    {
     "data": {
      "text/plain": [
       "array([[ 0.32943278,  0.32943278,  0.2620462 ,  0.50516926,  0.41336817,\n",
       "         0.42257386,  0.33112231],\n",
       "       [ 0.41948676,  0.41948676,  0.37069587,  0.01578321,  0.00371872,\n",
       "        -0.5391523 , -0.46871969],\n",
       "       [-0.2494593 , -0.2494593 , -0.32692809,  0.55236202,  0.50446837,\n",
       "        -0.27716403, -0.36365657],\n",
       "       [ 0.36678304,  0.36678304, -0.79769844,  0.05293961, -0.14851717,\n",
       "        -0.15992196,  0.21019662],\n",
       "       [ 0.06990761,  0.06990761, -0.12342957,  0.24884869, -0.42171601,\n",
       "         0.57850712, -0.63289054],\n",
       "       [-0.71329073,  0.69789665,  0.01231527,  0.04002461, -0.04002461,\n",
       "        -0.02001231,  0.02001231],\n",
       "       [-0.07123497, -0.16370203,  0.1879496 ,  0.6108362 , -0.6108362 ,\n",
       "        -0.3054181 ,  0.3054181 ]])"
      ]
     },
     "execution_count": 95,
     "metadata": {},
     "output_type": "execute_result"
    }
   ],
   "source": [
    "V"
   ]
  },
  {
   "cell_type": "code",
   "execution_count": 96,
   "metadata": {
    "collapsed": true
   },
   "outputs": [],
   "source": [
    "#превращаем вектор весов матрицу весов\n",
    "S = np.zeros((6, 7))"
   ]
  },
  {
   "cell_type": "code",
   "execution_count": 97,
   "metadata": {
    "collapsed": false
   },
   "outputs": [
    {
     "data": {
      "text/plain": [
       "array([[  1.26226575e+01,   0.00000000e+00,   0.00000000e+00,\n",
       "          0.00000000e+00,   0.00000000e+00,   0.00000000e+00,\n",
       "          0.00000000e+00],\n",
       "       [  0.00000000e+00,   1.06683922e+01,   0.00000000e+00,\n",
       "          0.00000000e+00,   0.00000000e+00,   0.00000000e+00,\n",
       "          0.00000000e+00],\n",
       "       [  0.00000000e+00,   0.00000000e+00,   7.29730704e+00,\n",
       "          0.00000000e+00,   0.00000000e+00,   0.00000000e+00,\n",
       "          0.00000000e+00],\n",
       "       [  0.00000000e+00,   0.00000000e+00,   0.00000000e+00,\n",
       "          1.64107896e+00,   0.00000000e+00,   0.00000000e+00,\n",
       "          0.00000000e+00],\n",
       "       [  0.00000000e+00,   0.00000000e+00,   0.00000000e+00,\n",
       "          0.00000000e+00,   9.53988881e-01,   0.00000000e+00,\n",
       "          0.00000000e+00],\n",
       "       [  0.00000000e+00,   0.00000000e+00,   0.00000000e+00,\n",
       "          0.00000000e+00,   0.00000000e+00,   3.30004874e-17,\n",
       "          0.00000000e+00]])"
      ]
     },
     "execution_count": 97,
     "metadata": {},
     "output_type": "execute_result"
    }
   ],
   "source": [
    "S[:6,:6]=np.diag(s)\n",
    "S"
   ]
  },
  {
   "cell_type": "code",
   "execution_count": 98,
   "metadata": {
    "collapsed": false
   },
   "outputs": [
    {
     "data": {
      "text/plain": [
       "array([[  4.00000000e+00,   4.00000000e+00,   5.00000000e+00,\n",
       "          8.90520809e-16,   8.61392906e-16,   4.96822468e-16,\n",
       "          5.95694946e-16],\n",
       "       [  5.00000000e+00,   5.00000000e+00,   3.00000000e+00,\n",
       "          4.00000000e+00,   3.00000000e+00,  -6.09094324e-16,\n",
       "         -2.84405778e-16],\n",
       "       [  4.33548827e-16,   1.40717458e-16,   5.00861171e-16,\n",
       "          4.00000000e+00,   4.00000000e+00,  -1.87363603e-15,\n",
       "         -1.32959913e-15],\n",
       "       [  1.44657843e-15,   1.02592436e-15,   2.17384667e-15,\n",
       "          5.00000000e+00,   4.00000000e+00,   5.00000000e+00,\n",
       "          3.00000000e+00],\n",
       "       [  8.88178420e-16,   4.44089210e-16,   4.44089210e-16,\n",
       "         -1.08246745e-15,  -1.45716772e-15,   5.00000000e+00,\n",
       "          5.00000000e+00],\n",
       "       [  6.66133815e-16,   2.22044605e-16,   6.66133815e-16,\n",
       "         -8.53483950e-16,  -7.91033905e-16,   4.00000000e+00,\n",
       "          4.00000000e+00]])"
      ]
     },
     "execution_count": 98,
     "metadata": {},
     "output_type": "execute_result"
    }
   ],
   "source": [
    "#пробуем восстанавливать исходную матрицу\n",
    "np.dot(U, np.dot(S, V))"
   ]
  },
  {
   "cell_type": "code",
   "execution_count": 99,
   "metadata": {
    "collapsed": true
   },
   "outputs": [],
   "source": [
    "Y=np.dot(U, np.dot(S, V))"
   ]
  },
  {
   "cell_type": "code",
   "execution_count": 100,
   "metadata": {
    "collapsed": false
   },
   "outputs": [
    {
     "data": {
      "text/plain": [
       "1.3236908514815919e-14"
      ]
     },
     "execution_count": 100,
     "metadata": {},
     "output_type": "execute_result"
    }
   ],
   "source": [
    "#вычисляем ошибку приближения со всеми факторами\n",
    "np.linalg.norm(X-Y)"
   ]
  },
  {
   "cell_type": "code",
   "execution_count": 101,
   "metadata": {
    "collapsed": true
   },
   "outputs": [],
   "source": [
    "#обнуляем 5-ый фактор\n",
    "S[4,4]=0"
   ]
  },
  {
   "cell_type": "code",
   "execution_count": 102,
   "metadata": {
    "collapsed": true
   },
   "outputs": [],
   "source": [
    "Y=np.dot(U, np.dot(S, V))"
   ]
  },
  {
   "cell_type": "code",
   "execution_count": 103,
   "metadata": {
    "collapsed": false
   },
   "outputs": [
    {
     "data": {
      "text/plain": [
       "0.95398888134339621"
      ]
     },
     "execution_count": 103,
     "metadata": {},
     "output_type": "execute_result"
    }
   ],
   "source": [
    "np.linalg.norm(X-Y)"
   ]
  },
  {
   "cell_type": "code",
   "execution_count": 104,
   "metadata": {
    "collapsed": false
   },
   "outputs": [
    {
     "data": {
      "text/plain": [
       "1.8982188885974189"
      ]
     },
     "execution_count": 104,
     "metadata": {},
     "output_type": "execute_result"
    }
   ],
   "source": [
    "#обнуляем 4-ый фактор\n",
    "S[3,3]=0\n",
    "Y=np.dot(U, np.dot(S, V))\n",
    "np.linalg.norm(X-Y)"
   ]
  },
  {
   "cell_type": "code",
   "execution_count": 105,
   "metadata": {
    "collapsed": true
   },
   "outputs": [],
   "source": [
    "from sklearn.decomposition import NMF\n"
   ]
  },
  {
   "cell_type": "code",
   "execution_count": 146,
   "metadata": {
    "collapsed": true
   },
   "outputs": [],
   "source": [
    "#инициализируем праметры неотрицательной матричной факторизации с тремя факторами\n",
    "model = NMF(n_components=3, init='random', random_state=0)\n"
   ]
  },
  {
   "cell_type": "code",
   "execution_count": 147,
   "metadata": {
    "collapsed": false
   },
   "outputs": [
    {
     "data": {
      "text/plain": [
       "NMF(alpha=0.0, beta=1, eta=0.1, init='random', l1_ratio=0.0, max_iter=200,\n",
       "  n_components=4, nls_max_iter=2000, random_state=0, shuffle=False,\n",
       "  solver='cd', sparseness=None, tol=0.0001, verbose=0)"
      ]
     },
     "execution_count": 147,
     "metadata": {},
     "output_type": "execute_result"
    }
   ],
   "source": [
    "#применяем модель к матрице оценок фильмов\n",
    "model.fit(X) \n"
   ]
  },
  {
   "cell_type": "code",
   "execution_count": 148,
   "metadata": {
    "collapsed": false
   },
   "outputs": [],
   "source": [
    "#извлекаем компоненты \n",
    "W = model.fit_transform(X);\n",
    "H = model.components_;"
   ]
  },
  {
   "cell_type": "code",
   "execution_count": 149,
   "metadata": {
    "collapsed": false
   },
   "outputs": [
    {
     "data": {
      "text/plain": [
       "array([[  2.50491604e+00,   0.00000000e+00,   0.00000000e+00,\n",
       "          0.00000000e+00],\n",
       "       [  2.41547669e+00,   0.00000000e+00,   5.73219345e-07,\n",
       "          1.93614354e+00],\n",
       "       [  0.00000000e+00,   9.35309958e-03,   0.00000000e+00,\n",
       "          2.20411318e+00],\n",
       "       [  0.00000000e+00,   2.24595306e+00,   3.72392586e-01,\n",
       "          6.48848113e-01],\n",
       "       [  0.00000000e+00,   0.00000000e+00,   3.12835991e+00,\n",
       "          0.00000000e+00],\n",
       "       [  0.00000000e+00,   0.00000000e+00,   2.50268793e+00,\n",
       "          0.00000000e+00]])"
      ]
     },
     "execution_count": 149,
     "metadata": {},
     "output_type": "execute_result"
    }
   ],
   "source": [
    "#зрители-факторы\n",
    "W\n"
   ]
  },
  {
   "cell_type": "code",
   "execution_count": 150,
   "metadata": {
    "collapsed": false
   },
   "outputs": [
    {
     "data": {
      "text/plain": [
       "array([[  1.76358424e+00,   1.76358424e+00,   1.63273555e+00,\n",
       "          7.08820091e-02,   0.00000000e+00,   0.00000000e+00,\n",
       "          0.00000000e+00],\n",
       "       [  0.00000000e+00,   0.00000000e+00,   0.00000000e+00,\n",
       "          1.68209007e+00,   1.29125765e+00,   1.96118758e+00,\n",
       "          1.07071259e+00],\n",
       "       [  0.00000000e+00,   0.00000000e+00,   0.00000000e+00,\n",
       "          1.59311691e-05,   0.00000000e+00,   1.59828334e+00,\n",
       "          1.59828253e+00],\n",
       "       [  1.58726496e-01,   1.58726496e-01,   0.00000000e+00,\n",
       "          1.88172836e+00,   1.69609196e+00,   0.00000000e+00,\n",
       "          0.00000000e+00]])"
      ]
     },
     "execution_count": 150,
     "metadata": {},
     "output_type": "execute_result"
    }
   ],
   "source": [
    "#факторы-зрители\n",
    "H"
   ]
  },
  {
   "cell_type": "code",
   "execution_count": 151,
   "metadata": {
    "collapsed": false
   },
   "outputs": [
    {
     "data": {
      "text/plain": [
       "array([[  4.41763045e+00,   4.41763045e+00,   4.08986547e+00,\n",
       "          1.77553482e-01,   0.00000000e+00,   0.00000000e+00,\n",
       "          0.00000000e+00],\n",
       "       [  4.56721389e+00,   4.56721389e+00,   3.94383465e+00,\n",
       "          3.81451006e+00,   3.28387749e+00,   9.16166928e-07,\n",
       "          9.16166467e-07],\n",
       "       [  3.49851161e-01,   3.49851161e-01,   0.00000000e+00,\n",
       "          4.16327504e+00,   3.75045590e+00,   1.83431827e-02,\n",
       "          1.00144815e-02],\n",
       "       [  1.02989387e-01,   1.02989387e-01,   0.00000000e+00,\n",
       "          4.99885719e+00,   4.00061013e+00,   4.99992412e+00,\n",
       "          2.99995880e+00],\n",
       "       [  0.00000000e+00,   0.00000000e+00,   0.00000000e+00,\n",
       "          4.98384306e-05,   0.00000000e+00,   5.00000551e+00,\n",
       "          5.00000299e+00],\n",
       "       [  0.00000000e+00,   0.00000000e+00,   0.00000000e+00,\n",
       "          3.98707445e-05,   0.00000000e+00,   4.00000441e+00,\n",
       "          4.00000239e+00]])"
      ]
     },
     "execution_count": 151,
     "metadata": {},
     "output_type": "execute_result"
    }
   ],
   "source": [
    "#восстанавливаем исходную матрицу\n",
    "Y=np.dot(W,H)\n",
    "Y"
   ]
  },
  {
   "cell_type": "code",
   "execution_count": 152,
   "metadata": {
    "collapsed": false
   },
   "outputs": [
    {
     "data": {
      "text/plain": [
       "1.7159544482539668"
      ]
     },
     "execution_count": 152,
     "metadata": {},
     "output_type": "execute_result"
    }
   ],
   "source": [
    "#находим суммарную ошибку\n",
    "np.linalg.norm(X-Y)"
   ]
  },
  {
   "cell_type": "code",
   "execution_count": 153,
   "metadata": {
    "collapsed": false
   },
   "outputs": [
    {
     "data": {
      "text/plain": [
       "array([[ -4.17630451e-01,  -4.17630451e-01,   9.10134534e-01,\n",
       "         -1.77553482e-01,   0.00000000e+00,   0.00000000e+00,\n",
       "          0.00000000e+00],\n",
       "       [  4.32786107e-01,   4.32786107e-01,  -9.43834651e-01,\n",
       "          1.85489943e-01,  -2.83877488e-01,  -9.16166928e-07,\n",
       "         -9.16166467e-07],\n",
       "       [ -3.49851161e-01,  -3.49851161e-01,   0.00000000e+00,\n",
       "         -1.63275040e-01,   2.49544104e-01,  -1.83431827e-02,\n",
       "         -1.00144815e-02],\n",
       "       [ -1.02989387e-01,  -1.02989387e-01,   0.00000000e+00,\n",
       "          1.14281347e-03,  -6.10132784e-04,   7.58800160e-05,\n",
       "          4.12016364e-05],\n",
       "       [  0.00000000e+00,   0.00000000e+00,   0.00000000e+00,\n",
       "         -4.98384306e-05,   0.00000000e+00,  -5.50766951e-06,\n",
       "         -2.99057651e-06],\n",
       "       [  0.00000000e+00,   0.00000000e+00,   0.00000000e+00,\n",
       "         -3.98707445e-05,   0.00000000e+00,  -4.40613561e-06,\n",
       "         -2.39246121e-06]])"
      ]
     },
     "execution_count": 153,
     "metadata": {},
     "output_type": "execute_result"
    }
   ],
   "source": [
    "X-Y"
   ]
  },
  {
   "cell_type": "code",
   "execution_count": 140,
   "metadata": {
    "collapsed": false
   },
   "outputs": [],
   "source": [
    "# на точность приближения влияют параметры модели (например, можно увеличить число факторов)"
   ]
  }
 ],
 "metadata": {
  "kernelspec": {
   "display_name": "Python 2",
   "language": "python",
   "name": "python2"
  },
  "language_info": {
   "codemirror_mode": {
    "name": "ipython",
    "version": 2
   },
   "file_extension": ".py",
   "mimetype": "text/x-python",
   "name": "python",
   "nbconvert_exporter": "python",
   "pygments_lexer": "ipython2",
   "version": "2.7.11"
  }
 },
 "nbformat": 4,
 "nbformat_minor": 0
}
