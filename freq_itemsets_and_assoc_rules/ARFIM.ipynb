{
 "cells": [
  {
   "cell_type": "markdown",
   "metadata": {},
   "source": [
    "Пример взят с http://orange.biolab.si/docs/latest/reference/rst/Orange.associate.html"
   ]
  },
  {
   "cell_type": "code",
   "execution_count": 1,
   "metadata": {
    "collapsed": true
   },
   "outputs": [],
   "source": [
    "import Orange"
   ]
  },
  {
   "cell_type": "code",
   "execution_count": 4,
   "metadata": {
    "collapsed": false
   },
   "outputs": [],
   "source": [
    "data = Orange.data.Table(\"market-basket.basket\")\n",
    "# загружаем данные из набора c покупками"
   ]
  },
  {
   "cell_type": "code",
   "execution_count": 5,
   "metadata": {
    "collapsed": false
   },
   "outputs": [
    {
     "data": {
      "text/plain": [
       "[[], {\"Bread\":1.000, \"Milk\":1.000},\n",
       " [], {\"Bread\":1.000, \"Diapers\":1.000, \"Beer\":1.000, \"Eggs\":1.000},\n",
       " [], {\"Milk\":1.000, \"Diapers\":1.000, \"Beer\":1.000, \"Cola\":1.000},\n",
       " [], {\"Bread\":1.000, \"Milk\":1.000, \"Diapers\":1.000, \"Beer\":1.000},\n",
       " [], {\"Bread\":1.000, \"Milk\":1.000, \"Diapers\":1.000, \"Cola\":1.000}]"
      ]
     },
     "execution_count": 5,
     "metadata": {},
     "output_type": "execute_result"
    }
   ],
   "source": [
    "data[:]"
   ]
  },
  {
   "cell_type": "code",
   "execution_count": 20,
   "metadata": {
    "collapsed": false
   },
   "outputs": [
    {
     "name": "stdout",
     "output_type": "stream",
     "text": [
      "Supp Conf  Rule\n",
      " 0.4  1.0  Cola -> Diapers\n",
      " 0.4  0.5  Diapers -> Cola\n",
      " 0.4  1.0  Cola -> Diapers Milk\n",
      " 0.4  1.0  Cola Diapers -> Milk\n",
      " 0.4  1.0  Cola Milk -> Diapers\n",
      " 0.4  0.5  Diapers -> Cola Milk\n",
      " 0.4  0.7  Diapers Milk -> Cola\n",
      " 0.4  0.5  Milk -> Cola Diapers\n",
      " 0.4  1.0  Cola -> Milk\n",
      " 0.4  0.5  Milk -> Cola\n",
      " 0.6  1.0  Beer -> Diapers\n",
      " 0.6  0.8  Diapers -> Beer\n",
      " 0.4  0.7  Beer -> Diapers Milk\n",
      " 0.4  0.7  Beer Diapers -> Milk\n",
      " 0.4  1.0  Beer Milk -> Diapers\n",
      " 0.4  0.5  Diapers -> Beer Milk\n",
      " 0.4  0.7  Diapers Milk -> Beer\n",
      " 0.4  0.5  Milk -> Beer Diapers\n",
      " 0.4  0.7  Beer -> Diapers Bread\n",
      " 0.4  0.7  Beer Diapers -> Bread\n",
      " 0.4  1.0  Beer Bread -> Diapers\n",
      " 0.4  0.5  Diapers -> Beer Bread\n",
      " 0.4  0.7  Diapers Bread -> Beer\n",
      " 0.4  0.5  Bread -> Beer Diapers\n",
      " 0.4  0.7  Beer -> Milk\n",
      " 0.4  0.5  Milk -> Beer\n",
      " 0.4  0.7  Beer -> Bread\n",
      " 0.4  0.5  Bread -> Beer\n",
      " 0.6  0.8  Diapers -> Milk\n",
      " 0.6  0.8  Milk -> Diapers\n",
      " 0.4  0.5  Diapers -> Milk Bread\n",
      " 0.4  0.7  Diapers Milk -> Bread\n",
      " 0.4  0.7  Diapers Bread -> Milk\n",
      " 0.4  0.5  Milk -> Diapers Bread\n",
      " 0.4  0.7  Milk Bread -> Diapers\n",
      " 0.4  0.5  Bread -> Diapers Milk\n",
      " 0.6  0.8  Diapers -> Bread\n",
      " 0.6  0.8  Bread -> Diapers\n",
      " 0.6  0.8  Milk -> Bread\n",
      " 0.6  0.8  Bread -> Milk\n"
     ]
    }
   ],
   "source": [
    "rules = Orange.associate.AssociationRulesSparseInducer(data, support=0.3, store_examples = True)\n",
    "# находим все ассоциативные правила с поддержкой 0.3\n",
    "print \"%4s %4s  %s\" % (\"Supp\", \"Conf\", \"Rule\")\n",
    "for r in rules[:]:\n",
    "    print \"%4.1f %4.1f  %s\" % (r.support, r.confidence, r)\n",
    "#выводим пять правил и значения поддержки и достоверности"
   ]
  },
  {
   "cell_type": "code",
   "execution_count": 19,
   "metadata": {
    "collapsed": false
   },
   "outputs": [
    {
     "name": "stdout",
     "output_type": "stream",
     "text": [
      "(0.40) Cola\n",
      "(0.40) Cola Diapers\n",
      "(0.40) Cola Diapers Milk\n",
      "(0.40) Cola Milk\n",
      "(0.60) Beer\n"
     ]
    }
   ],
   "source": [
    "data = Orange.data.Table(\"market-basket.basket\")\n",
    "\n",
    "ind = Orange.associate.AssociationRulesSparseInducer(support=0.4, storeExamples = True)\n",
    "itemsets = ind.get_itemsets(data)\n",
    "for itemset, tids in itemsets[:5]:\n",
    "    print \"(%4.2f) %s\" % (len(tids)/float(len(data)),\n",
    "                          \" \".join(data.domain[item].name for item in itemset))\n",
    "# относительная поддержка и частые множества"
   ]
  },
  {
   "cell_type": "code",
   "execution_count": 21,
   "metadata": {
    "collapsed": true
   },
   "outputs": [],
   "source": [
    "rule=rules[0]"
   ]
  },
  {
   "cell_type": "code",
   "execution_count": 22,
   "metadata": {
    "collapsed": false
   },
   "outputs": [
    {
     "data": {
      "text/plain": [
       "[], {\"Diapers\":1.000}"
      ]
     },
     "execution_count": 22,
     "metadata": {},
     "output_type": "execute_result"
    }
   ],
   "source": [
    "rule.right\n"
   ]
  },
  {
   "cell_type": "code",
   "execution_count": 23,
   "metadata": {
    "collapsed": false
   },
   "outputs": [
    {
     "data": {
      "text/plain": [
       "[], {\"Cola\":1.000}"
      ]
     },
     "execution_count": 23,
     "metadata": {},
     "output_type": "execute_result"
    }
   ],
   "source": [
    "rule.left"
   ]
  },
  {
   "cell_type": "code",
   "execution_count": 35,
   "metadata": {
    "collapsed": false
   },
   "outputs": [
    {
     "data": {
      "text/plain": [
       "[], {\"Bread\":1.000, \"Diapers\":1.000, \"Beer\":1.000, \"Eggs\":1.000}"
      ]
     },
     "execution_count": 35,
     "metadata": {},
     "output_type": "execute_result"
    }
   ],
   "source": [
    "rule.examples[1]"
   ]
  },
  {
   "cell_type": "code",
   "execution_count": 44,
   "metadata": {
    "collapsed": false
   },
   "outputs": [],
   "source": [
    "l=list(rule.match_both)"
   ]
  },
  {
   "cell_type": "code",
   "execution_count": 45,
   "metadata": {
    "collapsed": false
   },
   "outputs": [
    {
     "name": "stdout",
     "output_type": "stream",
     "text": [
      "[], {\"Milk\":1.000, \"Diapers\":1.000, \"Beer\":1.000, \"Cola\":1.000}\n",
      "[], {\"Bread\":1.000, \"Milk\":1.000, \"Diapers\":1.000, \"Cola\":1.000}\n"
     ]
    }
   ],
   "source": [
    "for e in l:\n",
    "     print rule.examples[int(e)]"
   ]
  },
  {
   "cell_type": "code",
   "execution_count": 46,
   "metadata": {
    "collapsed": false
   },
   "outputs": [
    {
     "data": {
      "text/plain": [
       "1.0"
      ]
     },
     "execution_count": 46,
     "metadata": {},
     "output_type": "execute_result"
    }
   ],
   "source": [
    "rule.confidence"
   ]
  },
  {
   "cell_type": "code",
   "execution_count": 49,
   "metadata": {
    "collapsed": false
   },
   "outputs": [
    {
     "ename": "ImportError",
     "evalue": "No module named pyspark.mllib.fpm",
     "output_type": "error",
     "traceback": [
      "\u001b[1;31m---------------------------------------------------------------------------\u001b[0m",
      "\u001b[1;31mImportError\u001b[0m                               Traceback (most recent call last)",
      "\u001b[1;32m<ipython-input-49-4a36b69a5496>\u001b[0m in \u001b[0;36m<module>\u001b[1;34m()\u001b[0m\n\u001b[1;32m----> 1\u001b[1;33m \u001b[1;32mfrom\u001b[0m \u001b[0mpyspark\u001b[0m\u001b[1;33m.\u001b[0m\u001b[0mmllib\u001b[0m\u001b[1;33m.\u001b[0m\u001b[0mfpm\u001b[0m \u001b[1;32mimport\u001b[0m \u001b[1;33m*\u001b[0m\u001b[1;33m\u001b[0m\u001b[0m\n\u001b[0m",
      "\u001b[1;31mImportError\u001b[0m: No module named pyspark.mllib.fpm"
     ]
    }
   ],
   "source": []
  },
  {
   "cell_type": "code",
   "execution_count": null,
   "metadata": {
    "collapsed": true
   },
   "outputs": [],
   "source": []
  }
 ],
 "metadata": {
  "kernelspec": {
   "display_name": "Python 2",
   "language": "python",
   "name": "python2"
  },
  "language_info": {
   "codemirror_mode": {
    "name": "ipython",
    "version": 2
   },
   "file_extension": ".py",
   "mimetype": "text/x-python",
   "name": "python",
   "nbconvert_exporter": "python",
   "pygments_lexer": "ipython2",
   "version": "2.7.11"
  }
 },
 "nbformat": 4,
 "nbformat_minor": 0
}
