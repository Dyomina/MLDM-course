{
 "cells": [
  {
   "cell_type": "code",
   "execution_count": 1,
   "metadata": {
    "collapsed": true
   },
   "outputs": [],
   "source": [
    "from pyspark.mllib.fpm import FPGrowth\n",
    "\n",
    "#PYSPARK_DRIVER_PYTHON=ipython $SPARK_HOME/bin/pyspark\n",
    "#PYSPARK_DRIVER_PYTHON=ipython PYSPARK_DRIVER_PYTHON_OPTS='notebook' $SPARK_HOME/bin/pyspark\n",
    "#PYSPARK_DRIVER_PYTHON=ipython PYSPARK_DRIVER_PYTHON_OPTS='notebook --profile=pyspark' $SPARK_HOME/bin/pyspark\n"
   ]
  },
  {
   "cell_type": "code",
   "execution_count": 2,
   "metadata": {
    "collapsed": true
   },
   "outputs": [],
   "source": [
    "from pyspark import SparkContext"
   ]
  },
  {
   "cell_type": "code",
   "execution_count": 4,
   "metadata": {
    "collapsed": false
   },
   "outputs": [
    {
     "name": "stdout",
     "output_type": "stream",
     "text": [
      "FreqItemset(items=[u'z'], freq=5)\n",
      "FreqItemset(items=[u'x'], freq=4)\n",
      "FreqItemset(items=[u'x', u'z'], freq=3)\n",
      "FreqItemset(items=[u'y'], freq=3)\n",
      "FreqItemset(items=[u'y', u'x'], freq=3)\n",
      "FreqItemset(items=[u'y', u'x', u'z'], freq=3)\n",
      "FreqItemset(items=[u'y', u'z'], freq=3)\n",
      "FreqItemset(items=[u'r'], freq=3)\n",
      "FreqItemset(items=[u'r', u'x'], freq=2)\n",
      "FreqItemset(items=[u'r', u'z'], freq=2)\n",
      "FreqItemset(items=[u's'], freq=3)\n",
      "FreqItemset(items=[u's', u'y'], freq=2)\n",
      "FreqItemset(items=[u's', u'y', u'x'], freq=2)\n",
      "FreqItemset(items=[u's', u'y', u'x', u'z'], freq=2)\n",
      "FreqItemset(items=[u's', u'y', u'z'], freq=2)\n",
      "FreqItemset(items=[u's', u'x'], freq=3)\n",
      "FreqItemset(items=[u's', u'x', u'z'], freq=2)\n",
      "FreqItemset(items=[u's', u'z'], freq=2)\n",
      "FreqItemset(items=[u't'], freq=3)\n",
      "FreqItemset(items=[u't', u'y'], freq=3)\n",
      "FreqItemset(items=[u't', u'y', u'x'], freq=3)\n",
      "FreqItemset(items=[u't', u'y', u'x', u'z'], freq=3)\n",
      "FreqItemset(items=[u't', u'y', u'z'], freq=3)\n",
      "FreqItemset(items=[u't', u's'], freq=2)\n",
      "FreqItemset(items=[u't', u's', u'y'], freq=2)\n",
      "FreqItemset(items=[u't', u's', u'y', u'x'], freq=2)\n",
      "FreqItemset(items=[u't', u's', u'y', u'x', u'z'], freq=2)\n",
      "FreqItemset(items=[u't', u's', u'y', u'z'], freq=2)\n",
      "FreqItemset(items=[u't', u's', u'x'], freq=2)\n",
      "FreqItemset(items=[u't', u's', u'x', u'z'], freq=2)\n",
      "FreqItemset(items=[u't', u's', u'z'], freq=2)\n",
      "FreqItemset(items=[u't', u'x'], freq=3)\n",
      "FreqItemset(items=[u't', u'x', u'z'], freq=3)\n",
      "FreqItemset(items=[u't', u'z'], freq=3)\n",
      "FreqItemset(items=[u'p'], freq=2)\n",
      "FreqItemset(items=[u'p', u'r'], freq=2)\n",
      "FreqItemset(items=[u'p', u'r', u'z'], freq=2)\n",
      "FreqItemset(items=[u'p', u'z'], freq=2)\n",
      "FreqItemset(items=[u'q'], freq=2)\n",
      "FreqItemset(items=[u'q', u'y'], freq=2)\n",
      "FreqItemset(items=[u'q', u'y', u'x'], freq=2)\n",
      "FreqItemset(items=[u'q', u'y', u'x', u'z'], freq=2)\n",
      "FreqItemset(items=[u'q', u'y', u'z'], freq=2)\n",
      "FreqItemset(items=[u'q', u't'], freq=2)\n",
      "FreqItemset(items=[u'q', u't', u'y'], freq=2)\n",
      "FreqItemset(items=[u'q', u't', u'y', u'x'], freq=2)\n",
      "FreqItemset(items=[u'q', u't', u'y', u'x', u'z'], freq=2)\n",
      "FreqItemset(items=[u'q', u't', u'y', u'z'], freq=2)\n",
      "FreqItemset(items=[u'q', u't', u'x'], freq=2)\n",
      "FreqItemset(items=[u'q', u't', u'x', u'z'], freq=2)\n",
      "FreqItemset(items=[u'q', u't', u'z'], freq=2)\n",
      "FreqItemset(items=[u'q', u'x'], freq=2)\n",
      "FreqItemset(items=[u'q', u'x', u'z'], freq=2)\n",
      "FreqItemset(items=[u'q', u'z'], freq=2)\n"
     ]
    }
   ],
   "source": [
    "data = sc.textFile(\"data/mllib/sample_fpgrowth.txt\")\n",
    "transactions = data.map(lambda line: line.strip().split(' '))\n",
    "model = FPGrowth.train(transactions, minSupport=0.2, numPartitions=10)\n",
    "result = model.freqItemsets().collect()\n",
    "for fi in result:\n",
    "    print(fi)"
   ]
  },
  {
   "cell_type": "code",
   "execution_count": null,
   "metadata": {
    "collapsed": true
   },
   "outputs": [],
   "source": []
  }
 ],
 "metadata": {
  "kernelspec": {
   "display_name": "Python 2",
   "language": "python",
   "name": "python2"
  },
  "language_info": {
   "codemirror_mode": {
    "name": "ipython",
    "version": 2
   },
   "file_extension": ".py",
   "mimetype": "text/x-python",
   "name": "python",
   "nbconvert_exporter": "python",
   "pygments_lexer": "ipython2",
   "version": "2.7.11"
  }
 },
 "nbformat": 4,
 "nbformat_minor": 0
}
